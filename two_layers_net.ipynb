{
 "cells": [
  {
   "cell_type": "code",
   "execution_count": 5,
   "source": [
    "import numpy as np\n",
    "from common.layers import Affine, Sigmoid, SoftmaxWithLoss\n",
    "\n",
    "\n",
    "class TwoLayersNet:\n",
    "    def __init__(self, in_size, hiddne_size, out_size) -> None:\n",
    "        I, H, O = in_size, hiddne_size, out_size\n",
    "        W1 = 0.01*np.random.randn(I, H)\n",
    "        b1 = np.zeros(H)\n",
    "        W2 = 0.01*np.random.randn(H, O)\n",
    "        b2 = np.zeros(O)\n",
    "\n",
    "        self.layers = [\n",
    "            Affine(W1, b1),\n",
    "            Sigmoid(),\n",
    "            Affine(W2, b2)\n",
    "        ]\n",
    "        self.loss_layer = SoftmaxWithLoss()\n",
    "\n",
    "        self.params, self.grads = [], []\n",
    "        for layer in self.layers:\n",
    "            self.params += layer.params\n",
    "            self.grads += layer.grads\n",
    "\n",
    "    def predict(self, x):\n",
    "        for layer in self.layers:\n",
    "            x = layer.forward(x)\n",
    "        return x\n",
    "\n",
    "    def forward(self, x, t):\n",
    "        score = self.predict(x)\n",
    "        loss = self.loss_layer.forward(score, t)\n",
    "        return loss\n",
    "\n",
    "    def backward(self, dout=1):\n",
    "        dout = self.loss_layer.backward(dout)\n",
    "        for layer in reversed(self.layers):\n",
    "            dout = layer.backward(dout)\n",
    "        return dout\n"
   ],
   "outputs": [],
   "metadata": {}
  },
  {
   "cell_type": "code",
   "execution_count": 6,
   "source": [
    "x = np.random.randn(10, 2)\n",
    "model = TwoLayersNet(2, 4, 3)\n",
    "s = model.predict(x)\n",
    "print(s)\n"
   ],
   "outputs": [
    {
     "output_type": "stream",
     "name": "stdout",
     "text": [
      "[[ 0.76065908 -0.36741883  0.10238995]\n",
      " [ 0.25463967 -0.42511882  0.31959841]\n",
      " [-0.18650807 -0.56299782  0.7001589 ]\n",
      " [-0.34651606 -0.71825485  0.54477786]\n",
      " [-0.21747417 -0.56905373  0.77214697]\n",
      " [ 0.03202724 -0.50017115  0.44281184]\n",
      " [ 0.58533649 -0.27490116  0.40471138]\n",
      " [ 0.986053   -0.16679866  0.08898377]\n",
      " [-0.27461834 -0.57490921  0.91441923]\n",
      " [ 0.17480354 -0.46578586  0.33985754]]\n"
     ]
    }
   ],
   "metadata": {}
  },
  {
   "cell_type": "code",
   "execution_count": null,
   "source": [],
   "outputs": [],
   "metadata": {}
  }
 ],
 "metadata": {
  "orig_nbformat": 4,
  "language_info": {
   "name": "python"
  }
 },
 "nbformat": 4,
 "nbformat_minor": 2
}